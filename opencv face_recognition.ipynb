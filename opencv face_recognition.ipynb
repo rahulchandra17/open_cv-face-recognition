{
 "cells": [
  {
   "cell_type": "code",
   "execution_count": 1,
   "metadata": {},
   "outputs": [
    {
     "name": "stderr",
     "output_type": "stream",
     "text": [
      "Using TensorFlow backend.\n"
     ]
    }
   ],
   "source": [
    "import cv2\n",
    "from keras.models import load_model\n",
    "from keras.preprocessing.image import load_img, img_to_array\n",
    "import numpy as np\n",
    " "
   ]
  },
  {
   "cell_type": "code",
   "execution_count": 2,
   "metadata": {},
   "outputs": [],
   "source": [
    "model = load_model('model_last.h5')"
   ]
  },
  {
   "cell_type": "code",
   "execution_count": 3,
   "metadata": {},
   "outputs": [],
   "source": [
    "img_width, img_hight = 200, 200\n",
    "face_cascade = cv2.CascadeClassifier(\"haarcascade_frontalface_default.xml\")"
   ]
  },
  {
   "cell_type": "code",
   "execution_count": null,
   "metadata": {},
   "outputs": [
    {
     "name": "stdout",
     "output_type": "stream",
     "text": [
      "0.76752126\n",
      "0.8638153\n",
      "0.88495827\n",
      "0.8314036\n",
      "0.691306\n"
     ]
    }
   ],
   "source": [
    "cap = cv2.VideoCapture(0)\n",
    "img_count_full = 0\n",
    "\n",
    "font = cv2.FONT_HERSHEY_SIMPLEX\n",
    "org = (1, 1)\n",
    "class_lable=' ' \n",
    " \n",
    "color = (255, 0, 0) \n",
    "fontScale = 1\n",
    " \n",
    "thickness = 2\n",
    " \n",
    "\n",
    "while True:\n",
    "    img_count_full += 1\n",
    "     \n",
    "    \n",
    "    responce, color_img = cap.read()\n",
    "   \n",
    "    if responce == False:\n",
    "        break    \n",
    "     \n",
    "   \n",
    "    gray_img = cv2.cvtColor(color_img, cv2.COLOR_BGR2GRAY)\n",
    "     \n",
    "   \n",
    "    faces = face_cascade.detectMultiScale(gray_img, 1.1, 6) # 1.1, 3) for 1.mp4\n",
    "     \n",
    "    \n",
    "    img_count = 0\n",
    "    for (x, y, w, h) in faces:\n",
    "        org = (x-10,y-10)\n",
    "        img_count +=1 \n",
    "        color_face = color_img[y:y+h,x:x+w] \n",
    "        cv2.imwrite('face.jpg',color_face)\n",
    "        img = load_img('face.jpg', target_size=(img_width,img_hight))\n",
    "         \n",
    "        img = img_to_array(img)/255\n",
    "        img = np.expand_dims(img,axis=0)\n",
    "        pred_prob = model.predict(img)\n",
    "       \n",
    "        pred=np.argmax(pred_prob)\n",
    "             \n",
    "        if pred==0:\n",
    "            print(pred_prob[0][0])\n",
    "            class_lable = \"shahid-kapoor\"\n",
    "            color = (255, 0, 0)\n",
    "            cv2.imwrite('face.jpg',color_face)\n",
    "                  \n",
    "        else:\n",
    "            print(pred_prob[0][1])\n",
    "            class_lable = \"salman-khan\"\n",
    "            color = (0, 255, 0)\n",
    "            cv2.imwrite('face.jpg',color_face)\n",
    "                 \n",
    "        cv2.rectangle(color_img, (x, y), (x+w, y+h), (0, 0, 255), 3)\n",
    "        \n",
    "        cv2.putText(color_img, class_lable, org, font,  \n",
    "                                   fontScale, color, thickness, cv2.LINE_AA) \n",
    "     \n",
    "   \n",
    "    cv2.imshow('LIVE face mask detection', color_img)\n",
    "     \n",
    "    if cv2.waitKey(1) &  0xFF == ord('q'):\n",
    "        break\n",
    " \n",
    "\n",
    "cap.release()\n",
    "cv2.destroyAllWindows()"
   ]
  },
  {
   "cell_type": "code",
   "execution_count": null,
   "metadata": {},
   "outputs": [],
   "source": []
  }
 ],
 "metadata": {
  "kernelspec": {
   "display_name": "Python 3",
   "language": "python",
   "name": "python3"
  },
  "language_info": {
   "codemirror_mode": {
    "name": "ipython",
    "version": 3
   },
   "file_extension": ".py",
   "mimetype": "text/x-python",
   "name": "python",
   "nbconvert_exporter": "python",
   "pygments_lexer": "ipython3",
   "version": "3.7.4"
  }
 },
 "nbformat": 4,
 "nbformat_minor": 2
}
